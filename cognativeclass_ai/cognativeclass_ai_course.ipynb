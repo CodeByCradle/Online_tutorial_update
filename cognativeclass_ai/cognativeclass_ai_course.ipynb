{
 "cells": [
  {
   "cell_type": "code",
   "execution_count": null,
   "metadata": {
    "id": "gqlrX4wYvDRK"
   },
   "outputs": [],
   "source": [
    "!pip install langchain==0.0.18\n",
    "!pip install pydantic==1.10.9\n",
    "!pip install huggingface-hub"
   ]
  },
  {
   "cell_type": "code",
   "execution_count": null,
   "metadata": {
    "id": "sUhNIrHAuBdJ"
   },
   "outputs": [],
   "source": [
    "import os\n",
    "from langchain.llms import HuggingFaceHub\n",
    "\n",
    "os.environ[\"HUGGINGFACEHUB_API_TOKEN\"] = \"[Your token]\"\n",
    "\n",
    "llm = HuggingFaceHub(repo_id=\"tiiuae/falcon-7b-instruct\",\n",
    "                     model_kwargs={\"temperature\": 0.1, \n",
    "                                   \"max_new_tokens\": 600}\n",
    "                    )\n",
    "\n",
    "text = \"How to do self-training for running a marathon?\"\n",
    "\n",
    "print(llm(text))"
   ]
  },
  {
   "cell_type": "markdown",
   "metadata": {
    "id": "St3J1sRSvk8w"
   },
   "source": [
    "Solution 1: Missing code - api_url\n",
    "\n",
    "The original tutorial was likely based on an older version of Hugging Face where specifying the client.api_url wasn't necessary. However, since we're using the latest version, we need to explicitly specify the api_url.\n",
    "\n",
    "Solution provided by the user `nij4t` (link: https://huggingface.co/mistralai/\n",
    "Mistral-7B-Instruct-v0.2/discussions/115).\n"
   ]
  },
  {
   "cell_type": "code",
   "execution_count": null,
   "metadata": {
    "id": "mORKgXzUw8e9"
   },
   "outputs": [],
   "source": [
    "hugging_face_access_token = \"[Your token]\"\n",
    "\n",
    "llm = HuggingFaceHub(repo_id=\"tiiuae/falcon-7b-instruct\",\n",
    "                     model_kwargs={\"temperature\": 0.1, \n",
    "                                   \"max_new_tokens\": 600},  \n",
    "                     huggingfacehub_api_token = hugging_face_access_token\n",
    "                    )\n",
    "\n",
    "llm.client.api_url = 'https://api-inference.huggingface.co/models/tiiuae/falcon-7b-instruct'\n",
    "\n",
    "text = \"How to do self-training for running a marathon?\"\n",
    "\n",
    "print(llm(text))\n"
   ]
  },
  {
   "cell_type": "markdown",
   "metadata": {
    "id": "KCsQ2KiuyAVf"
   },
   "source": [
    "Solution 2: Update Packages and Address Dependencies\n",
    "\n",
    "1. Update all existing packages to their latest versions.\n",
    "2. Install the missing dependencies: *langchain-huggingface*, *langchain-community*, and *langchain-core*.\n",
    "3. Replace the huggingfacehub function with the HuggingFaceEndPoint function in your code."
   ]
  },
  {
   "cell_type": "code",
   "execution_count": null,
   "metadata": {
    "id": "H3APQ8Chx-fd"
   },
   "outputs": [],
   "source": [
    "!pip install langchain --upgrade\n",
    "!pip install pydantic --upgrade\n",
    "!pip install -U langchain-huggingface\n",
    "!pip install langchain-community langchain-core\n"
   ]
  },
  {
   "cell_type": "code",
   "execution_count": null,
   "metadata": {
    "id": "nLL7bTDvyW7S"
   },
   "outputs": [],
   "source": [
    "import os\n",
    "from langchain_huggingface import HuggingFaceEndpoint\n",
    "\n",
    "hugging_face_access_token = \"[Your token]\"\n",
    "\n",
    "repo_id = \"tiiuae/falcon-7b-instruct\"\n",
    "\n",
    "question = \"How to do self-training for running a marathon?\"\n",
    "\n",
    "llm = HuggingFaceEndpoint(repo_id=repo_id, \n",
    "                          max_new_tokens=600, \n",
    "                          temperature=0.5, \n",
    "                          huggingfacehub_api_token=hugging_face_access_token, \n",
    "                          add_to_git_credential=True\n",
    "                         )\n",
    "\n",
    "print(llm.invoke(question))"
   ]
  },
  {
   "cell_type": "code",
   "execution_count": null,
   "metadata": {},
   "outputs": [],
   "source": []
  }
 ],
 "metadata": {
  "colab": {
   "provenance": []
  },
  "kernelspec": {
   "display_name": "Python 3 (ipykernel)",
   "language": "python",
   "name": "python3"
  },
  "language_info": {
   "codemirror_mode": {
    "name": "ipython",
    "version": 3
   },
   "file_extension": ".py",
   "mimetype": "text/x-python",
   "name": "python",
   "nbconvert_exporter": "python",
   "pygments_lexer": "ipython3",
   "version": "3.9.6"
  }
 },
 "nbformat": 4,
 "nbformat_minor": 4
}
